{
  "cells": [
    {
      "cell_type": "markdown",
      "metadata": {
        "id": "view-in-github",
        "colab_type": "text"
      },
      "source": [
        "<a href=\"https://colab.research.google.com/github/sudiptiwari/MEDNIST/blob/main/2d_classification/mednist_tutorial.ipynb\" target=\"_parent\"><img src=\"https://colab.research.google.com/assets/colab-badge.svg\" alt=\"Open In Colab\"/></a>"
      ]
    },
    {
      "cell_type": "markdown",
      "metadata": {
        "id": "SG5Qq-4ewdED"
      },
      "source": [
        "\n",
        "# Medical Image Classification Tutorial with the MedNIST Dataset\n",
        "\n",
        "We'll go through the following steps:\n",
        "* Create a dataset for training and testing\n",
        "* Use MONAI transforms to pre-process data\n",
        "* Use the DenseNet from MONAI for classification\n",
        "* Train the model with a PyTorch program\n",
        "* Evaluate on test dataset"
      ]
    },
    {
      "cell_type": "markdown",
      "metadata": {
        "id": "l0aBXW7XwdEK"
      },
      "source": [
        "## Setup environment"
      ]
    },
    {
      "cell_type": "code",
      "execution_count": 2,
      "metadata": {
        "colab": {
          "base_uri": "https://localhost:8080/"
        },
        "id": "yV-H4McQwdEL",
        "outputId": "9803a1b8-ba97-489e-b28a-640f33ac172a"
      },
      "outputs": [
        {
          "output_type": "stream",
          "name": "stdout",
          "text": [
            "2023-07-02 04:01:45.624915: I tensorflow/core/platform/cpu_feature_guard.cc:182] This TensorFlow binary is optimized to use available CPU instructions in performance-critical operations.\n",
            "To enable the following instructions: AVX2 FMA, in other operations, rebuild TensorFlow with the appropriate compiler flags.\n",
            "2023-07-02 04:01:46.997713: W tensorflow/compiler/tf2tensorrt/utils/py_utils.cc:38] TF-TRT Warning: Could not find TensorRT\n"
          ]
        }
      ],
      "source": [
        "!python -c \"import monai\" || pip install -q \"monai-weekly[pillow, tqdm]\"\n",
        "!python -c \"import matplotlib\" || pip install -q matplotlib\n",
        "%matplotlib inline"
      ]
    },
    {
      "cell_type": "markdown",
      "metadata": {
        "id": "p0YOnLvIwdEO"
      },
      "source": [
        "## Setup imports"
      ]
    },
    {
      "cell_type": "code",
      "execution_count": 3,
      "metadata": {
        "tags": [],
        "colab": {
          "base_uri": "https://localhost:8080/"
        },
        "id": "c5RBpEJOwdEO",
        "outputId": "0353049e-a1b1-4dda-85be-54e7ecaec99c"
      },
      "outputs": [
        {
          "output_type": "stream",
          "name": "stdout",
          "text": [
            "MONAI version: 1.3.dev2327\n",
            "Numpy version: 1.22.4\n",
            "Pytorch version: 2.0.1+cu118\n",
            "MONAI flags: HAS_EXT = False, USE_COMPILED = False, USE_META_DICT = False\n",
            "MONAI rev id: a2a5a3c7c137ddb8a1ef8fde77188cd12e0a88e1\n",
            "MONAI __file__: /usr/local/lib/python3.10/dist-packages/monai/__init__.py\n",
            "\n",
            "Optional dependencies:\n",
            "Pytorch Ignite version: NOT INSTALLED or UNKNOWN VERSION.\n",
            "ITK version: NOT INSTALLED or UNKNOWN VERSION.\n",
            "Nibabel version: 3.0.2\n",
            "scikit-image version: 0.19.3\n",
            "Pillow version: 8.4.0\n",
            "Tensorboard version: 2.12.3\n",
            "gdown version: 4.6.6\n",
            "TorchVision version: 0.15.2+cu118\n",
            "tqdm version: 4.65.0\n",
            "lmdb version: NOT INSTALLED or UNKNOWN VERSION.\n",
            "psutil version: 5.9.5\n",
            "pandas version: 1.5.3\n",
            "einops version: NOT INSTALLED or UNKNOWN VERSION.\n",
            "transformers version: NOT INSTALLED or UNKNOWN VERSION.\n",
            "mlflow version: NOT INSTALLED or UNKNOWN VERSION.\n",
            "pynrrd version: NOT INSTALLED or UNKNOWN VERSION.\n",
            "\n",
            "For details about installing the optional dependencies, please visit:\n",
            "    https://docs.monai.io/en/latest/installation.html#installing-the-recommended-dependencies\n",
            "\n"
          ]
        }
      ],
      "source": [
        "import os\n",
        "import shutil\n",
        "import tempfile\n",
        "import matplotlib.pyplot as plt\n",
        "import PIL\n",
        "import torch\n",
        "import numpy as np\n",
        "from sklearn.metrics import classification_report\n",
        "\n",
        "from monai.apps import download_and_extract\n",
        "from monai.config import print_config\n",
        "from monai.data import decollate_batch, DataLoader\n",
        "from monai.metrics import ROCAUCMetric\n",
        "from monai.networks.nets import DenseNet121\n",
        "from monai.transforms import (\n",
        "    Activations,\n",
        "    EnsureChannelFirst,\n",
        "    AsDiscrete,\n",
        "    Compose,\n",
        "    LoadImage,\n",
        "    RandFlip,\n",
        "    RandRotate,\n",
        "    RandZoom,\n",
        "    ScaleIntensity,\n",
        ")\n",
        "from monai.utils import set_determinism\n",
        "\n",
        "print_config()"
      ]
    },
    {
      "cell_type": "markdown",
      "metadata": {
        "id": "4E3399HVwdEP"
      },
      "source": [
        "## Setup data directory\n",
        "\n",
        "You can specify a directory with the `MONAI_DATA_DIRECTORY` environment variable.  \n",
        "This allows you to save results and reuse downloads.  \n",
        "If not specified a temporary directory will be used."
      ]
    },
    {
      "cell_type": "code",
      "execution_count": 4,
      "metadata": {
        "tags": [],
        "colab": {
          "base_uri": "https://localhost:8080/"
        },
        "id": "qHcpKgWdwdEQ",
        "outputId": "fb5ff358-3bce-4253-a7d0-f0f4018ab4c0"
      },
      "outputs": [
        {
          "output_type": "stream",
          "name": "stdout",
          "text": [
            "/tmp/tmpvo3p8mvm\n"
          ]
        }
      ],
      "source": [
        "directory = os.environ.get(\"MONAI_DATA_DIRECTORY\")\n",
        "root_dir = tempfile.mkdtemp() if directory is None else directory\n",
        "print(root_dir)"
      ]
    },
    {
      "cell_type": "markdown",
      "metadata": {
        "id": "QC6NUjRpwdER"
      },
      "source": [
        "## Download dataset\n",
        "\n",
        "The MedNIST dataset was gathered from several sets from [TCIA](https://wiki.cancerimagingarchive.net/display/Public/Data+Usage+Policies+and+Restrictions),\n",
        "[the RSNA Bone Age Challenge](http://rsnachallenges.cloudapp.net/competitions/4),\n",
        "and [the NIH Chest X-ray dataset](https://cloud.google.com/healthcare/docs/resources/public-datasets/nih-chest).\n",
        "\n",
        "The dataset is kindly made available by [Dr. Bradley J. Erickson M.D., Ph.D.](https://www.mayo.edu/research/labs/radiology-informatics/overview) (Department of Radiology, Mayo Clinic)\n",
        "under the Creative Commons [CC BY-SA 4.0 license](https://creativecommons.org/licenses/by-sa/4.0/).\n",
        "\n",
        "If you use the MedNIST dataset, please acknowledge the source."
      ]
    },
    {
      "cell_type": "code",
      "execution_count": 5,
      "metadata": {
        "tags": [],
        "colab": {
          "base_uri": "https://localhost:8080/"
        },
        "id": "sIt2oRXAwdES",
        "outputId": "a06e4fa6-b5fe-4a87-a65a-b5aa387839c3"
      },
      "outputs": [
        {
          "output_type": "stream",
          "name": "stderr",
          "text": [
            "MedNIST.tar.gz: 59.0MB [00:01, 60.6MB/s]                            "
          ]
        },
        {
          "output_type": "stream",
          "name": "stdout",
          "text": [
            "2023-07-02 04:02:27,355 - INFO - Downloaded: /tmp/tmpvo3p8mvm/MedNIST.tar.gz\n",
            "2023-07-02 04:02:27,455 - INFO - Verified 'MedNIST.tar.gz', md5: 0bc7306e7427e00ad1c5526a6677552d.\n",
            "2023-07-02 04:02:27,457 - INFO - Writing into directory: /tmp/tmpvo3p8mvm.\n"
          ]
        },
        {
          "output_type": "stream",
          "name": "stderr",
          "text": [
            "\n"
          ]
        }
      ],
      "source": [
        "resource = \"https://github.com/Project-MONAI/MONAI-extra-test-data/releases/download/0.8.1/MedNIST.tar.gz\"\n",
        "md5 = \"0bc7306e7427e00ad1c5526a6677552d\"\n",
        "\n",
        "compressed_file = os.path.join(root_dir, \"MedNIST.tar.gz\")\n",
        "data_dir = os.path.join(root_dir, \"MedNIST\")\n",
        "if not os.path.exists(data_dir):\n",
        "    download_and_extract(resource, compressed_file, root_dir, md5)"
      ]
    },
    {
      "cell_type": "markdown",
      "metadata": {
        "id": "oTt0rtC8wdES"
      },
      "source": [
        "## Set deterministic training for reproducibility"
      ]
    },
    {
      "cell_type": "code",
      "execution_count": 6,
      "metadata": {
        "id": "0RJ2L8MHwdES"
      },
      "outputs": [],
      "source": [
        "set_determinism(seed=0)"
      ]
    },
    {
      "cell_type": "markdown",
      "metadata": {
        "id": "R6d5AjtOwdET"
      },
      "source": [
        "## Read image filenames from the dataset folders\n",
        "\n",
        "First of all, check the dataset files and show some statistics.  \n",
        "There are 6 folders in the dataset: Hand, AbdomenCT, CXR, ChestCT, BreastMRI, HeadCT,  \n",
        "which should be used as the labels to train our classification model."
      ]
    },
    {
      "cell_type": "code",
      "execution_count": 7,
      "metadata": {
        "tags": [],
        "colab": {
          "base_uri": "https://localhost:8080/"
        },
        "id": "-fRDup6BwdET",
        "outputId": "277196d2-ad80-49a0-ea00-ac72b18da1d6"
      },
      "outputs": [
        {
          "output_type": "stream",
          "name": "stdout",
          "text": [
            "Total image count: 58954\n",
            "Image dimensions: 64 x 64\n",
            "Label names: ['AbdomenCT', 'BreastMRI', 'CXR', 'ChestCT', 'Hand', 'HeadCT']\n",
            "Label counts: [10000, 8954, 10000, 10000, 10000, 10000]\n"
          ]
        }
      ],
      "source": [
        "class_names = sorted(x for x in os.listdir(data_dir) if os.path.isdir(os.path.join(data_dir, x)))\n",
        "num_class = len(class_names)\n",
        "image_files = [\n",
        "    [os.path.join(data_dir, class_names[i], x) for x in os.listdir(os.path.join(data_dir, class_names[i]))]\n",
        "    for i in range(num_class)\n",
        "]\n",
        "num_each = [len(image_files[i]) for i in range(num_class)]\n",
        "image_files_list = []\n",
        "image_class = []\n",
        "for i in range(num_class):\n",
        "    image_files_list.extend(image_files[i])\n",
        "    image_class.extend([i] * num_each[i])\n",
        "num_total = len(image_class)\n",
        "image_width, image_height = PIL.Image.open(image_files_list[0]).size\n",
        "\n",
        "print(f\"Total image count: {num_total}\")\n",
        "print(f\"Image dimensions: {image_width} x {image_height}\")\n",
        "print(f\"Label names: {class_names}\")\n",
        "print(f\"Label counts: {num_each}\")"
      ]
    },
    {
      "cell_type": "markdown",
      "metadata": {
        "id": "-O8vRf0UwdET"
      },
      "source": [
        "## Randomly pick images from the dataset to visualize and check"
      ]
    },
    {
      "cell_type": "code",
      "execution_count": 8,
      "metadata": {
        "colab": {
          "base_uri": "https://localhost:8080/",
          "height": 806
        },
        "id": "hhAKIglGwdEU",
        "outputId": "d23de640-4930-4d9f-fc0f-9dc619c75266"
      },
      "outputs": [
        {
          "output_type": "display_data",
          "data": {
            "text/plain": [
              "<Figure size 800x800 with 9 Axes>"
            ],
            "image/png": "[encoded data removed]"
          },
          "metadata": {}
        }
      ],
      "source": [
        "plt.subplots(3, 3, figsize=(8, 8))\n",
        "for i, k in enumerate(np.random.randint(num_total, size=9)):\n",
        "    im = PIL.Image.open(image_files_list[k])\n",
        "    arr = np.array(im)\n",
        "    plt.subplot(3, 3, i + 1)\n",
        "    plt.xlabel(class_names[image_class[k]])\n",
        "    plt.imshow(arr, cmap=\"gray\", vmin=0, vmax=255)\n",
        "plt.tight_layout()\n",
        "plt.show()"
      ]
    },
    {
      "cell_type": "markdown",
      "metadata": {
        "id": "WPo7qlsUwdEU"
      },
      "source": [
        "## Prepare training, validation and test data lists\n",
        "\n",
        "Randomly select 10% of the dataset as validation and 10% as test."
      ]
    },
    {
      "cell_type": "code",
      "execution_count": 9,
      "metadata": {
        "tags": [],
        "colab": {
          "base_uri": "https://localhost:8080/"
        },
        "id": "pLiZwgSVwdEU",
        "outputId": "e448e8d2-aeac-44d8-8f7e-336196a0bb4c"
      },
      "outputs": [
        {
          "output_type": "stream",
          "name": "stdout",
          "text": [
            "Training count: 47164, Validation count: 5895, Test count: 5895\n"
          ]
        }
      ],
      "source": [
        "val_frac = 0.1\n",
        "test_frac = 0.1\n",
        "length = len(image_files_list)\n",
        "indices = np.arange(length)\n",
        "np.random.shuffle(indices)\n",
        "\n",
        "test_split = int(test_frac * length)\n",
        "val_split = int(val_frac * length) + test_split\n",
        "test_indices = indices[:test_split]\n",
        "val_indices = indices[test_split:val_split]\n",
        "train_indices = indices[val_split:]\n",
        "\n",
        "train_x = [image_files_list[i] for i in train_indices]\n",
        "train_y = [image_class[i] for i in train_indices]\n",
        "val_x = [image_files_list[i] for i in val_indices]\n",
        "val_y = [image_class[i] for i in val_indices]\n",
        "test_x = [image_files_list[i] for i in test_indices]\n",
        "test_y = [image_class[i] for i in test_indices]\n",
        "\n",
        "print(f\"Training count: {len(train_x)}, Validation count: \" f\"{len(val_x)}, Test count: {len(test_x)}\")"
      ]
    },
    {
      "cell_type": "markdown",
      "metadata": {
        "id": "-5hqxHo0wdEU"
      },
      "source": [
        "## Define MONAI transforms, Dataset and Dataloader to pre-process data"
      ]
    },
    {
      "cell_type": "code",
      "execution_count": 10,
      "metadata": {
        "id": "tNZnT1_lwdEV"
      },
      "outputs": [],
      "source": [
        "train_transforms = Compose(\n",
        "    [\n",
        "        LoadImage(image_only=True),\n",
        "        EnsureChannelFirst(),\n",
        "        ScaleIntensity(),\n",
        "        RandRotate(range_x=np.pi / 12, prob=0.5, keep_size=True),\n",
        "        RandFlip(spatial_axis=0, prob=0.5),\n",
        "        RandZoom(min_zoom=0.9, max_zoom=1.1, prob=0.5),\n",
        "    ]\n",
        ")\n",
        "\n",
        "val_transforms = Compose([LoadImage(image_only=True), EnsureChannelFirst(), ScaleIntensity()])\n",
        "\n",
        "y_pred_trans = Compose([Activations(softmax=True)])\n",
        "y_trans = Compose([AsDiscrete(to_onehot=num_class)])"
      ]
    },
    {
      "cell_type": "code",
      "execution_count": 11,
      "metadata": {
        "colab": {
          "base_uri": "https://localhost:8080/"
        },
        "id": "3G_YLzdawdEV",
        "outputId": "d7cac718-c198-48ea-b8fe-c92dd86e5302"
      },
      "outputs": [
        {
          "output_type": "stream",
          "name": "stderr",
          "text": [
            "/usr/local/lib/python3.10/dist-packages/torch/utils/data/dataloader.py:560: UserWarning: This DataLoader will create 10 worker processes in total. Our suggested max number of worker in current system is 2, which is smaller than what this DataLoader is going to create. Please be aware that excessive worker creation might get DataLoader running slow or even freeze, lower the worker number to avoid potential slowness/freeze if necessary.\n",
            "  warnings.warn(_create_warning_msg(\n"
          ]
        }
      ],
      "source": [
        "class MedNISTDataset(torch.utils.data.Dataset):\n",
        "    def __init__(self, image_files, labels, transforms):\n",
        "        self.image_files = image_files\n",
        "        self.labels = labels\n",
        "        self.transforms = transforms\n",
        "\n",
        "    def __len__(self):\n",
        "        return len(self.image_files)\n",
        "\n",
        "    def __getitem__(self, index):\n",
        "        return self.transforms(self.image_files[index]), self.labels[index]\n",
        "\n",
        "\n",
        "train_ds = MedNISTDataset(train_x, train_y, train_transforms)\n",
        "train_loader = DataLoader(train_ds, batch_size=300, shuffle=True, num_workers=10)\n",
        "\n",
        "val_ds = MedNISTDataset(val_x, val_y, val_transforms)\n",
        "val_loader = DataLoader(val_ds, batch_size=300, num_workers=10)\n",
        "\n",
        "test_ds = MedNISTDataset(test_x, test_y, val_transforms)\n",
        "test_loader = DataLoader(test_ds, batch_size=300, num_workers=10)"
      ]
    },
    {
      "cell_type": "markdown",
      "metadata": {
        "id": "xHwNxfFCwdEV"
      },
      "source": [
        "## Define network and optimizer\n",
        "\n",
        "1. Set learning rate for how much the model is updated per batch.\n",
        "1. Set total epoch number, as we have shuffle and random transforms, so the training data of every epoch is different.  \n",
        "And as this is just a get start tutorial, let's just train 4 epochs.  \n",
        "If train 10 epochs, the model can achieve 100% accuracy on test dataset.\n",
        "1. Use DenseNet from MONAI and move to GPU devide, this DenseNet can support both 2D and 3D classification tasks.\n",
        "1. Use Adam optimizer."
      ]
    },
    {
      "cell_type": "code",
      "execution_count": 12,
      "metadata": {
        "id": "be98qjfUwdEV"
      },
      "outputs": [],
      "source": [
        "device = torch.device(\"cuda\" if torch.cuda.is_available() else \"cpu\")\n",
        "model = DenseNet121(spatial_dims=2, in_channels=1, out_channels=num_class).to(device)\n",
        "loss_function = torch.nn.CrossEntropyLoss()\n",
        "optimizer = torch.optim.Adam(model.parameters(), 1e-5)\n",
        "max_epochs = 4\n",
        "val_interval = 1\n",
        "auc_metric = ROCAUCMetric()"
      ]
    },
    {
      "cell_type": "markdown",
      "metadata": {
        "id": "RLYUt7pYwdEW"
      },
      "source": [
        "## Model training\n",
        "\n",
        "Execute a typical PyTorch training that run epoch loop and step loop, and do validation after every epoch.  \n",
        "Will save the model weights to file if got best validation accuracy."
      ]
    },
    {
      "cell_type": "code",
      "execution_count": 13,
      "metadata": {
        "tags": [],
        "colab": {
          "base_uri": "https://localhost:8080/"
        },
        "id": "1bQZ99YbwdEW",
        "outputId": "509150c7-9e1e-4460-f1dc-508f3bc65844"
      },
      "outputs": [
        {
          "output_type": "stream",
          "name": "stdout",
          "text": [
            "----------\n",
            "epoch 1/4\n",
            "1/157, train_loss: 1.8011\n",
            "2/157, train_loss: 1.7602\n",
            "3/157, train_loss: 1.7277\n",
            "4/157, train_loss: 1.7155\n",
            "5/157, train_loss: 1.6673\n",
            "6/157, train_loss: 1.6602\n",
            "7/157, train_loss: 1.6265\n",
            "8/157, train_loss: 1.5964\n",
            "9/157, train_loss: 1.5867\n",
            "10/157, train_loss: 1.5663\n",
            "11/157, train_loss: 1.5233\n",
            "12/157, train_loss: 1.5065\n",
            "13/157, train_loss: 1.4755\n",
            "14/157, train_loss: 1.4698\n",
            "15/157, train_loss: 1.4474\n",
            "16/157, train_loss: 1.4196\n",
            "17/157, train_loss: 1.4047\n",
            "18/157, train_loss: 1.3814\n",
            "19/157, train_loss: 1.3367\n",
            "20/157, train_loss: 1.3424\n",
            "21/157, train_loss: 1.3205\n",
            "22/157, train_loss: 1.2974\n",
            "23/157, train_loss: 1.2833\n",
            "24/157, train_loss: 1.3016\n",
            "25/157, train_loss: 1.2557\n",
            "26/157, train_loss: 1.2349\n",
            "27/157, train_loss: 1.1989\n",
            "28/157, train_loss: 1.1982\n",
            "29/157, train_loss: 1.1897\n",
            "30/157, train_loss: 1.1652\n",
            "31/157, train_loss: 1.1554\n",
            "32/157, train_loss: 1.1092\n",
            "33/157, train_loss: 1.0988\n",
            "34/157, train_loss: 1.0932\n",
            "35/157, train_loss: 1.0805\n",
            "36/157, train_loss: 1.0496\n",
            "37/157, train_loss: 1.0368\n",
            "38/157, train_loss: 1.0559\n",
            "39/157, train_loss: 1.0278\n",
            "40/157, train_loss: 1.0273\n",
            "41/157, train_loss: 1.0184\n",
            "42/157, train_loss: 0.9871\n",
            "43/157, train_loss: 0.9776\n",
            "44/157, train_loss: 0.9717\n",
            "45/157, train_loss: 0.9409\n",
            "46/157, train_loss: 0.9711\n",
            "47/157, train_loss: 0.9287\n",
            "48/157, train_loss: 0.9261\n",
            "49/157, train_loss: 0.9046\n",
            "50/157, train_loss: 0.8831\n",
            "51/157, train_loss: 0.8491\n",
            "52/157, train_loss: 0.8623\n",
            "53/157, train_loss: 0.8348\n",
            "54/157, train_loss: 0.7949\n",
            "55/157, train_loss: 0.8237\n",
            "56/157, train_loss: 0.8396\n",
            "57/157, train_loss: 0.8087\n",
            "58/157, train_loss: 0.7908\n",
            "59/157, train_loss: 0.7849\n",
            "60/157, train_loss: 0.7742\n",
            "61/157, train_loss: 0.7699\n",
            "62/157, train_loss: 0.7365\n",
            "63/157, train_loss: 0.7641\n",
            "64/157, train_loss: 0.6948\n",
            "65/157, train_loss: 0.7690\n",
            "66/157, train_loss: 0.7484\n",
            "67/157, train_loss: 0.7029\n",
            "68/157, train_loss: 0.6787\n",
            "69/157, train_loss: 0.7043\n",
            "70/157, train_loss: 0.6550\n",
            "71/157, train_loss: 0.6688\n",
            "72/157, train_loss: 0.6468\n",
            "73/157, train_loss: 0.6486\n",
            "74/157, train_loss: 0.6116\n",
            "75/157, train_loss: 0.5832\n",
            "76/157, train_loss: 0.6034\n",
            "77/157, train_loss: 0.6163\n",
            "78/157, train_loss: 0.6076\n",
            "79/157, train_loss: 0.6070\n",
            "80/157, train_loss: 0.5907\n",
            "81/157, train_loss: 0.5916\n",
            "82/157, train_loss: 0.6409\n",
            "83/157, train_loss: 0.5717\n",
            "84/157, train_loss: 0.5450\n",
            "85/157, train_loss: 0.5507\n",
            "86/157, train_loss: 0.5411\n",
            "87/157, train_loss: 0.5473\n",
            "88/157, train_loss: 0.5448\n",
            "89/157, train_loss: 0.5330\n",
            "90/157, train_loss: 0.5328\n",
            "91/157, train_loss: 0.5272\n",
            "92/157, train_loss: 0.4558\n",
            "93/157, train_loss: 0.4872\n",
            "94/157, train_loss: 0.4600\n",
            "95/157, train_loss: 0.4950\n",
            "96/157, train_loss: 0.4653\n",
            "97/157, train_loss: 0.4623\n",
            "98/157, train_loss: 0.4357\n",
            "99/157, train_loss: 0.4661\n",
            "100/157, train_loss: 0.4526\n",
            "101/157, train_loss: 0.4164\n",
            "102/157, train_loss: 0.4605\n",
            "103/157, train_loss: 0.4477\n",
            "104/157, train_loss: 0.4376\n",
            "105/157, train_loss: 0.4547\n",
            "106/157, train_loss: 0.4474\n",
            "107/157, train_loss: 0.4467\n",
            "108/157, train_loss: 0.4229\n",
            "109/157, train_loss: 0.4591\n",
            "110/157, train_loss: 0.4031\n",
            "111/157, train_loss: 0.4399\n",
            "112/157, train_loss: 0.3818\n",
            "113/157, train_loss: 0.3808\n",
            "114/157, train_loss: 0.3724\n",
            "115/157, train_loss: 0.3899\n",
            "116/157, train_loss: 0.3426\n",
            "117/157, train_loss: 0.3678\n",
            "118/157, train_loss: 0.3612\n",
            "119/157, train_loss: 0.3599\n",
            "120/157, train_loss: 0.3568\n",
            "121/157, train_loss: 0.3805\n",
            "122/157, train_loss: 0.3637\n",
            "123/157, train_loss: 0.3561\n",
            "124/157, train_loss: 0.3518\n",
            "125/157, train_loss: 0.3745\n",
            "126/157, train_loss: 0.3337\n",
            "127/157, train_loss: 0.3124\n",
            "128/157, train_loss: 0.3007\n",
            "129/157, train_loss: 0.3396\n",
            "130/157, train_loss: 0.3138\n",
            "131/157, train_loss: 0.3091\n",
            "132/157, train_loss: 0.3577\n",
            "133/157, train_loss: 0.2679\n",
            "134/157, train_loss: 0.3189\n",
            "135/157, train_loss: 0.2566\n",
            "136/157, train_loss: 0.2626\n",
            "137/157, train_loss: 0.3133\n",
            "138/157, train_loss: 0.3022\n",
            "139/157, train_loss: 0.2860\n",
            "140/157, train_loss: 0.2969\n",
            "141/157, train_loss: 0.2777\n",
            "142/157, train_loss: 0.2682\n",
            "143/157, train_loss: 0.2984\n",
            "144/157, train_loss: 0.3135\n",
            "145/157, train_loss: 0.2575\n",
            "146/157, train_loss: 0.2793\n",
            "147/157, train_loss: 0.2713\n",
            "148/157, train_loss: 0.2569\n",
            "149/157, train_loss: 0.2449\n",
            "150/157, train_loss: 0.2536\n",
            "151/157, train_loss: 0.2264\n",
            "152/157, train_loss: 0.2684\n",
            "153/157, train_loss: 0.2818\n",
            "154/157, train_loss: 0.2553\n",
            "155/157, train_loss: 0.2536\n",
            "156/157, train_loss: 0.2725\n",
            "157/157, train_loss: 0.2298\n",
            "158/157, train_loss: 0.3579\n",
            "epoch 1 average loss: 0.7278\n",
            "saved new best metric model\n",
            "current epoch: 1 current AUC: 0.9973 current accuracy: 0.9605 best AUC: 0.9973 at epoch: 1\n",
            "----------\n",
            "epoch 2/4\n",
            "1/157, train_loss: 0.2300\n",
            "2/157, train_loss: 0.2250\n",
            "3/157, train_loss: 0.2496\n",
            "4/157, train_loss: 0.2305\n",
            "5/157, train_loss: 0.2379\n",
            "6/157, train_loss: 0.2212\n",
            "7/157, train_loss: 0.2154\n",
            "8/157, train_loss: 0.2499\n",
            "9/157, train_loss: 0.2234\n",
            "10/157, train_loss: 0.2235\n",
            "11/157, train_loss: 0.2324\n",
            "12/157, train_loss: 0.2576\n",
            "13/157, train_loss: 0.2103\n",
            "14/157, train_loss: 0.1913\n",
            "15/157, train_loss: 0.2089\n",
            "16/157, train_loss: 0.1805\n",
            "17/157, train_loss: 0.1956\n",
            "18/157, train_loss: 0.2303\n",
            "19/157, train_loss: 0.1906\n",
            "20/157, train_loss: 0.2183\n",
            "21/157, train_loss: 0.2074\n",
            "22/157, train_loss: 0.2137\n",
            "23/157, train_loss: 0.1686\n",
            "24/157, train_loss: 0.2027\n",
            "25/157, train_loss: 0.1986\n",
            "26/157, train_loss: 0.2182\n",
            "27/157, train_loss: 0.2124\n",
            "28/157, train_loss: 0.1978\n",
            "29/157, train_loss: 0.1581\n",
            "30/157, train_loss: 0.1762\n",
            "31/157, train_loss: 0.1926\n",
            "32/157, train_loss: 0.1654\n",
            "33/157, train_loss: 0.1826\n",
            "34/157, train_loss: 0.2004\n",
            "35/157, train_loss: 0.1662\n",
            "36/157, train_loss: 0.1776\n",
            "37/157, train_loss: 0.1978\n",
            "38/157, train_loss: 0.2012\n",
            "39/157, train_loss: 0.1862\n",
            "40/157, train_loss: 0.1839\n",
            "41/157, train_loss: 0.1731\n",
            "42/157, train_loss: 0.1836\n",
            "43/157, train_loss: 0.1893\n",
            "44/157, train_loss: 0.1722\n",
            "45/157, train_loss: 0.1476\n",
            "46/157, train_loss: 0.2117\n",
            "47/157, train_loss: 0.1309\n",
            "48/157, train_loss: 0.1649\n",
            "49/157, train_loss: 0.1520\n",
            "50/157, train_loss: 0.1875\n",
            "51/157, train_loss: 0.1648\n",
            "52/157, train_loss: 0.1778\n",
            "53/157, train_loss: 0.1920\n",
            "54/157, train_loss: 0.1798\n",
            "55/157, train_loss: 0.1328\n",
            "56/157, train_loss: 0.2026\n",
            "57/157, train_loss: 0.1299\n",
            "58/157, train_loss: 0.1521\n",
            "59/157, train_loss: 0.1554\n",
            "60/157, train_loss: 0.1827\n",
            "61/157, train_loss: 0.1343\n",
            "62/157, train_loss: 0.1600\n",
            "63/157, train_loss: 0.1326\n",
            "64/157, train_loss: 0.1551\n",
            "65/157, train_loss: 0.1233\n",
            "66/157, train_loss: 0.1546\n",
            "67/157, train_loss: 0.1252\n",
            "68/157, train_loss: 0.1388\n",
            "69/157, train_loss: 0.1358\n",
            "70/157, train_loss: 0.1416\n",
            "71/157, train_loss: 0.1670\n",
            "72/157, train_loss: 0.1254\n",
            "73/157, train_loss: 0.1330\n",
            "74/157, train_loss: 0.1463\n",
            "75/157, train_loss: 0.1266\n",
            "76/157, train_loss: 0.1287\n",
            "77/157, train_loss: 0.1256\n",
            "78/157, train_loss: 0.1202\n",
            "79/157, train_loss: 0.1427\n",
            "80/157, train_loss: 0.1414\n",
            "81/157, train_loss: 0.1485\n",
            "82/157, train_loss: 0.1309\n",
            "83/157, train_loss: 0.1233\n",
            "84/157, train_loss: 0.1224\n",
            "85/157, train_loss: 0.1276\n",
            "86/157, train_loss: 0.1289\n",
            "87/157, train_loss: 0.1423\n",
            "88/157, train_loss: 0.1369\n",
            "89/157, train_loss: 0.1163\n",
            "90/157, train_loss: 0.1215\n",
            "91/157, train_loss: 0.1211\n",
            "92/157, train_loss: 0.1403\n",
            "93/157, train_loss: 0.1010\n",
            "94/157, train_loss: 0.1181\n",
            "95/157, train_loss: 0.1300\n",
            "96/157, train_loss: 0.1186\n",
            "97/157, train_loss: 0.1010\n",
            "98/157, train_loss: 0.0993\n",
            "99/157, train_loss: 0.1187\n",
            "100/157, train_loss: 0.0936\n",
            "101/157, train_loss: 0.1297\n",
            "102/157, train_loss: 0.1407\n",
            "103/157, train_loss: 0.1330\n",
            "104/157, train_loss: 0.1060\n",
            "105/157, train_loss: 0.1026\n",
            "106/157, train_loss: 0.1419\n",
            "107/157, train_loss: 0.1077\n",
            "108/157, train_loss: 0.1236\n",
            "109/157, train_loss: 0.1095\n",
            "110/157, train_loss: 0.1178\n",
            "111/157, train_loss: 0.1145\n",
            "112/157, train_loss: 0.1168\n",
            "113/157, train_loss: 0.1077\n",
            "114/157, train_loss: 0.1119\n",
            "115/157, train_loss: 0.1293\n",
            "116/157, train_loss: 0.1323\n",
            "117/157, train_loss: 0.0896\n",
            "118/157, train_loss: 0.1244\n",
            "119/157, train_loss: 0.1057\n",
            "120/157, train_loss: 0.1188\n",
            "121/157, train_loss: 0.1097\n",
            "122/157, train_loss: 0.0891\n",
            "123/157, train_loss: 0.1054\n",
            "124/157, train_loss: 0.0936\n",
            "125/157, train_loss: 0.0966\n",
            "126/157, train_loss: 0.0918\n",
            "127/157, train_loss: 0.1164\n",
            "128/157, train_loss: 0.1106\n",
            "129/157, train_loss: 0.0914\n",
            "130/157, train_loss: 0.1029\n",
            "131/157, train_loss: 0.0926\n",
            "132/157, train_loss: 0.0920\n",
            "133/157, train_loss: 0.0994\n",
            "134/157, train_loss: 0.1112\n",
            "135/157, train_loss: 0.0858\n",
            "136/157, train_loss: 0.0922\n",
            "137/157, train_loss: 0.0818\n",
            "138/157, train_loss: 0.0968\n",
            "139/157, train_loss: 0.0945\n",
            "140/157, train_loss: 0.0876\n",
            "141/157, train_loss: 0.0916\n",
            "142/157, train_loss: 0.0988\n",
            "143/157, train_loss: 0.0924\n",
            "144/157, train_loss: 0.0845\n",
            "145/157, train_loss: 0.0820\n",
            "146/157, train_loss: 0.0887\n",
            "147/157, train_loss: 0.0714\n",
            "148/157, train_loss: 0.0874\n",
            "149/157, train_loss: 0.0951\n",
            "150/157, train_loss: 0.1078\n",
            "151/157, train_loss: 0.1050\n",
            "152/157, train_loss: 0.0979\n",
            "153/157, train_loss: 0.0953\n",
            "154/157, train_loss: 0.0875\n",
            "155/157, train_loss: 0.0753\n",
            "156/157, train_loss: 0.0713\n",
            "157/157, train_loss: 0.0783\n",
            "158/157, train_loss: 0.1059\n",
            "epoch 2 average loss: 0.1439\n",
            "saved new best metric model\n",
            "current epoch: 2 current AUC: 0.9998 current accuracy: 0.9854 best AUC: 0.9998 at epoch: 2\n",
            "----------\n",
            "epoch 3/4\n",
            "1/157, train_loss: 0.0794\n",
            "2/157, train_loss: 0.0847\n",
            "3/157, train_loss: 0.0849\n",
            "4/157, train_loss: 0.0667\n",
            "5/157, train_loss: 0.0846\n",
            "6/157, train_loss: 0.1044\n",
            "7/157, train_loss: 0.0728\n",
            "8/157, train_loss: 0.0747\n",
            "9/157, train_loss: 0.0681\n",
            "10/157, train_loss: 0.0979\n",
            "11/157, train_loss: 0.0840\n",
            "12/157, train_loss: 0.0840\n",
            "13/157, train_loss: 0.0629\n",
            "14/157, train_loss: 0.0676\n",
            "15/157, train_loss: 0.0686\n",
            "16/157, train_loss: 0.0758\n",
            "17/157, train_loss: 0.0831\n",
            "18/157, train_loss: 0.0792\n",
            "19/157, train_loss: 0.0660\n",
            "20/157, train_loss: 0.0621\n",
            "21/157, train_loss: 0.0697\n",
            "22/157, train_loss: 0.0969\n",
            "23/157, train_loss: 0.0828\n",
            "24/157, train_loss: 0.0709\n",
            "25/157, train_loss: 0.0932\n",
            "26/157, train_loss: 0.0734\n",
            "27/157, train_loss: 0.0616\n",
            "28/157, train_loss: 0.0721\n",
            "29/157, train_loss: 0.0823\n",
            "30/157, train_loss: 0.0677\n",
            "31/157, train_loss: 0.1009\n",
            "32/157, train_loss: 0.0889\n",
            "33/157, train_loss: 0.0721\n",
            "34/157, train_loss: 0.0725\n",
            "35/157, train_loss: 0.0764\n",
            "36/157, train_loss: 0.0645\n",
            "37/157, train_loss: 0.0791\n",
            "38/157, train_loss: 0.0688\n",
            "39/157, train_loss: 0.0618\n",
            "40/157, train_loss: 0.1001\n",
            "41/157, train_loss: 0.0557\n",
            "42/157, train_loss: 0.0706\n",
            "43/157, train_loss: 0.0719\n",
            "44/157, train_loss: 0.0924\n",
            "45/157, train_loss: 0.0636\n",
            "46/157, train_loss: 0.0643\n",
            "47/157, train_loss: 0.0801\n",
            "48/157, train_loss: 0.0939\n",
            "49/157, train_loss: 0.0746\n",
            "50/157, train_loss: 0.0804\n",
            "51/157, train_loss: 0.0599\n",
            "52/157, train_loss: 0.0541\n",
            "53/157, train_loss: 0.0915\n",
            "54/157, train_loss: 0.0640\n",
            "55/157, train_loss: 0.0764\n",
            "56/157, train_loss: 0.0911\n",
            "57/157, train_loss: 0.0576\n",
            "58/157, train_loss: 0.0640\n",
            "59/157, train_loss: 0.0805\n",
            "60/157, train_loss: 0.0645\n",
            "61/157, train_loss: 0.0919\n",
            "62/157, train_loss: 0.0948\n",
            "63/157, train_loss: 0.0823\n",
            "64/157, train_loss: 0.0590\n",
            "65/157, train_loss: 0.0742\n",
            "66/157, train_loss: 0.0517\n",
            "67/157, train_loss: 0.0697\n",
            "68/157, train_loss: 0.0614\n",
            "69/157, train_loss: 0.0448\n",
            "70/157, train_loss: 0.0655\n",
            "71/157, train_loss: 0.0450\n",
            "72/157, train_loss: 0.0700\n",
            "73/157, train_loss: 0.0718\n",
            "74/157, train_loss: 0.0665\n",
            "75/157, train_loss: 0.0892\n",
            "76/157, train_loss: 0.0750\n",
            "77/157, train_loss: 0.0723\n",
            "78/157, train_loss: 0.0572\n",
            "79/157, train_loss: 0.0522\n",
            "80/157, train_loss: 0.0775\n",
            "81/157, train_loss: 0.0555\n",
            "82/157, train_loss: 0.0634\n",
            "83/157, train_loss: 0.0626\n",
            "84/157, train_loss: 0.0721\n",
            "85/157, train_loss: 0.0533\n",
            "86/157, train_loss: 0.0905\n",
            "87/157, train_loss: 0.0974\n",
            "88/157, train_loss: 0.0593\n",
            "89/157, train_loss: 0.0715\n",
            "90/157, train_loss: 0.0693\n",
            "91/157, train_loss: 0.0418\n",
            "92/157, train_loss: 0.0897\n",
            "93/157, train_loss: 0.0439\n",
            "94/157, train_loss: 0.0613\n",
            "95/157, train_loss: 0.0671\n",
            "96/157, train_loss: 0.0429\n",
            "97/157, train_loss: 0.0549\n",
            "98/157, train_loss: 0.0726\n",
            "99/157, train_loss: 0.0631\n",
            "100/157, train_loss: 0.0683\n",
            "101/157, train_loss: 0.0465\n",
            "102/157, train_loss: 0.0681\n",
            "103/157, train_loss: 0.0403\n",
            "104/157, train_loss: 0.0486\n",
            "105/157, train_loss: 0.0624\n",
            "106/157, train_loss: 0.0826\n",
            "107/157, train_loss: 0.0555\n",
            "108/157, train_loss: 0.0594\n",
            "109/157, train_loss: 0.0572\n",
            "110/157, train_loss: 0.0732\n",
            "111/157, train_loss: 0.0406\n",
            "112/157, train_loss: 0.0578\n",
            "113/157, train_loss: 0.0420\n",
            "114/157, train_loss: 0.0453\n",
            "115/157, train_loss: 0.0515\n",
            "116/157, train_loss: 0.0625\n",
            "117/157, train_loss: 0.0346\n",
            "118/157, train_loss: 0.0523\n",
            "119/157, train_loss: 0.0650\n",
            "120/157, train_loss: 0.0663\n",
            "121/157, train_loss: 0.0546\n",
            "122/157, train_loss: 0.0474\n",
            "123/157, train_loss: 0.0526\n",
            "124/157, train_loss: 0.0618\n",
            "125/157, train_loss: 0.0347\n",
            "126/157, train_loss: 0.0607\n",
            "127/157, train_loss: 0.0686\n",
            "128/157, train_loss: 0.0588\n",
            "129/157, train_loss: 0.0508\n",
            "130/157, train_loss: 0.0635\n",
            "131/157, train_loss: 0.0363\n",
            "132/157, train_loss: 0.0579\n",
            "133/157, train_loss: 0.0533\n",
            "134/157, train_loss: 0.0507\n",
            "135/157, train_loss: 0.0499\n",
            "136/157, train_loss: 0.0385\n",
            "137/157, train_loss: 0.0609\n",
            "138/157, train_loss: 0.0451\n",
            "139/157, train_loss: 0.0592\n",
            "140/157, train_loss: 0.0455\n",
            "141/157, train_loss: 0.0524\n",
            "142/157, train_loss: 0.0766\n",
            "143/157, train_loss: 0.0482\n",
            "144/157, train_loss: 0.0339\n",
            "145/157, train_loss: 0.0334\n",
            "146/157, train_loss: 0.0615\n",
            "147/157, train_loss: 0.0606\n",
            "148/157, train_loss: 0.0326\n",
            "149/157, train_loss: 0.0419\n",
            "150/157, train_loss: 0.0414\n",
            "151/157, train_loss: 0.0514\n",
            "152/157, train_loss: 0.0361\n",
            "153/157, train_loss: 0.0418\n",
            "154/157, train_loss: 0.0363\n",
            "155/157, train_loss: 0.0466\n",
            "156/157, train_loss: 0.0539\n",
            "157/157, train_loss: 0.0498\n",
            "158/157, train_loss: 0.0389\n",
            "epoch 3 average loss: 0.0648\n",
            "saved new best metric model\n",
            "current epoch: 3 current AUC: 1.0000 current accuracy: 0.9930 best AUC: 1.0000 at epoch: 3\n",
            "----------\n",
            "epoch 4/4\n",
            "1/157, train_loss: 0.0501\n",
            "2/157, train_loss: 0.0452\n",
            "3/157, train_loss: 0.0309\n",
            "4/157, train_loss: 0.0369\n",
            "5/157, train_loss: 0.0644\n",
            "6/157, train_loss: 0.0360\n",
            "7/157, train_loss: 0.0571\n",
            "8/157, train_loss: 0.0415\n",
            "9/157, train_loss: 0.0330\n",
            "10/157, train_loss: 0.0368\n",
            "11/157, train_loss: 0.0491\n",
            "12/157, train_loss: 0.0328\n",
            "13/157, train_loss: 0.0527\n",
            "14/157, train_loss: 0.0361\n",
            "15/157, train_loss: 0.0328\n",
            "16/157, train_loss: 0.0543\n",
            "17/157, train_loss: 0.0413\n",
            "18/157, train_loss: 0.0418\n",
            "19/157, train_loss: 0.0383\n",
            "20/157, train_loss: 0.0465\n",
            "21/157, train_loss: 0.0392\n",
            "22/157, train_loss: 0.0405\n",
            "23/157, train_loss: 0.0321\n",
            "24/157, train_loss: 0.0434\n",
            "25/157, train_loss: 0.0521\n",
            "26/157, train_loss: 0.0445\n",
            "27/157, train_loss: 0.0463\n",
            "28/157, train_loss: 0.0274\n",
            "29/157, train_loss: 0.0456\n",
            "30/157, train_loss: 0.0334\n",
            "31/157, train_loss: 0.0399\n",
            "32/157, train_loss: 0.0406\n",
            "33/157, train_loss: 0.0461\n",
            "34/157, train_loss: 0.0342\n",
            "35/157, train_loss: 0.0419\n",
            "36/157, train_loss: 0.0340\n",
            "37/157, train_loss: 0.0427\n",
            "38/157, train_loss: 0.0360\n",
            "39/157, train_loss: 0.0373\n",
            "40/157, train_loss: 0.0436\n",
            "41/157, train_loss: 0.0418\n",
            "42/157, train_loss: 0.0284\n",
            "43/157, train_loss: 0.0446\n",
            "44/157, train_loss: 0.0324\n",
            "45/157, train_loss: 0.0502\n",
            "46/157, train_loss: 0.0364\n",
            "47/157, train_loss: 0.0403\n",
            "48/157, train_loss: 0.0421\n",
            "49/157, train_loss: 0.0417\n",
            "50/157, train_loss: 0.0433\n",
            "51/157, train_loss: 0.0403\n",
            "52/157, train_loss: 0.0447\n",
            "53/157, train_loss: 0.0465\n",
            "54/157, train_loss: 0.0500\n",
            "55/157, train_loss: 0.0361\n",
            "56/157, train_loss: 0.0404\n",
            "57/157, train_loss: 0.0520\n",
            "58/157, train_loss: 0.0377\n",
            "59/157, train_loss: 0.0327\n",
            "60/157, train_loss: 0.0261\n",
            "61/157, train_loss: 0.0458\n",
            "62/157, train_loss: 0.0400\n",
            "63/157, train_loss: 0.0235\n",
            "64/157, train_loss: 0.0285\n",
            "65/157, train_loss: 0.0325\n",
            "66/157, train_loss: 0.0398\n",
            "67/157, train_loss: 0.0438\n",
            "68/157, train_loss: 0.0311\n",
            "69/157, train_loss: 0.0334\n",
            "70/157, train_loss: 0.0439\n",
            "71/157, train_loss: 0.0492\n",
            "72/157, train_loss: 0.0354\n",
            "73/157, train_loss: 0.0446\n",
            "74/157, train_loss: 0.0360\n",
            "75/157, train_loss: 0.0569\n",
            "76/157, train_loss: 0.0359\n",
            "77/157, train_loss: 0.0437\n",
            "78/157, train_loss: 0.0306\n",
            "79/157, train_loss: 0.0487\n",
            "80/157, train_loss: 0.0303\n",
            "81/157, train_loss: 0.0364\n",
            "82/157, train_loss: 0.0654\n",
            "83/157, train_loss: 0.0378\n",
            "84/157, train_loss: 0.0445\n",
            "85/157, train_loss: 0.0434\n",
            "86/157, train_loss: 0.0424\n",
            "87/157, train_loss: 0.0477\n",
            "88/157, train_loss: 0.0374\n",
            "89/157, train_loss: 0.0402\n",
            "90/157, train_loss: 0.0303\n",
            "91/157, train_loss: 0.0301\n",
            "92/157, train_loss: 0.0415\n",
            "93/157, train_loss: 0.0490\n",
            "94/157, train_loss: 0.0274\n",
            "95/157, train_loss: 0.0319\n",
            "96/157, train_loss: 0.0418\n",
            "97/157, train_loss: 0.0515\n",
            "98/157, train_loss: 0.0376\n",
            "99/157, train_loss: 0.0277\n",
            "100/157, train_loss: 0.0418\n",
            "101/157, train_loss: 0.0355\n",
            "102/157, train_loss: 0.0419\n",
            "103/157, train_loss: 0.0315\n",
            "104/157, train_loss: 0.0344\n",
            "105/157, train_loss: 0.0434\n",
            "106/157, train_loss: 0.0293\n",
            "107/157, train_loss: 0.0289\n",
            "108/157, train_loss: 0.0306\n",
            "109/157, train_loss: 0.0317\n",
            "110/157, train_loss: 0.0358\n",
            "111/157, train_loss: 0.0370\n",
            "112/157, train_loss: 0.0379\n",
            "113/157, train_loss: 0.0259\n",
            "114/157, train_loss: 0.0284\n",
            "115/157, train_loss: 0.0314\n",
            "116/157, train_loss: 0.0280\n",
            "117/157, train_loss: 0.0510\n",
            "118/157, train_loss: 0.0237\n",
            "119/157, train_loss: 0.0305\n",
            "120/157, train_loss: 0.0539\n",
            "121/157, train_loss: 0.0293\n",
            "122/157, train_loss: 0.0277\n",
            "123/157, train_loss: 0.0376\n",
            "124/157, train_loss: 0.0277\n",
            "125/157, train_loss: 0.0278\n",
            "126/157, train_loss: 0.0235\n",
            "127/157, train_loss: 0.0329\n",
            "128/157, train_loss: 0.0252\n",
            "129/157, train_loss: 0.0365\n",
            "130/157, train_loss: 0.0335\n",
            "131/157, train_loss: 0.0211\n",
            "132/157, train_loss: 0.0628\n",
            "133/157, train_loss: 0.0368\n",
            "134/157, train_loss: 0.0459\n",
            "135/157, train_loss: 0.0204\n",
            "136/157, train_loss: 0.0413\n",
            "137/157, train_loss: 0.0183\n",
            "138/157, train_loss: 0.0355\n",
            "139/157, train_loss: 0.0308\n",
            "140/157, train_loss: 0.0203\n",
            "141/157, train_loss: 0.0297\n",
            "142/157, train_loss: 0.0370\n",
            "143/157, train_loss: 0.0639\n",
            "144/157, train_loss: 0.0280\n",
            "145/157, train_loss: 0.0265\n",
            "146/157, train_loss: 0.0358\n",
            "147/157, train_loss: 0.0321\n",
            "148/157, train_loss: 0.0505\n",
            "149/157, train_loss: 0.0525\n",
            "150/157, train_loss: 0.0368\n",
            "151/157, train_loss: 0.0255\n",
            "152/157, train_loss: 0.0226\n",
            "153/157, train_loss: 0.0352\n",
            "154/157, train_loss: 0.0197\n",
            "155/157, train_loss: 0.0354\n",
            "156/157, train_loss: 0.0318\n",
            "157/157, train_loss: 0.0223\n",
            "158/157, train_loss: 0.0776\n",
            "epoch 4 average loss: 0.0382\n",
            "saved new best metric model\n",
            "current epoch: 4 current AUC: 1.0000 current accuracy: 0.9956 best AUC: 1.0000 at epoch: 4\n",
            "train completed, best_metric: 1.0000 at epoch: 4\n"
          ]
        }
      ],
      "source": [
        "best_metric = -1\n",
        "best_metric_epoch = -1\n",
        "epoch_loss_values = []\n",
        "metric_values = []\n",
        "\n",
        "for epoch in range(max_epochs):\n",
        "    print(\"-\" * 10)\n",
        "    print(f\"epoch {epoch + 1}/{max_epochs}\")\n",
        "    model.train()\n",
        "    epoch_loss = 0\n",
        "    step = 0\n",
        "    for batch_data in train_loader:\n",
        "        step += 1\n",
        "        inputs, labels = batch_data[0].to(device), batch_data[1].to(device)\n",
        "        optimizer.zero_grad()\n",
        "        outputs = model(inputs)\n",
        "        loss = loss_function(outputs, labels)\n",
        "        loss.backward()\n",
        "        optimizer.step()\n",
        "        epoch_loss += loss.item()\n",
        "        print(f\"{step}/{len(train_ds) // train_loader.batch_size}, \" f\"train_loss: {loss.item():.4f}\")\n",
        "        epoch_len = len(train_ds) // train_loader.batch_size\n",
        "    epoch_loss /= step\n",
        "    epoch_loss_values.append(epoch_loss)\n",
        "    print(f\"epoch {epoch + 1} average loss: {epoch_loss:.4f}\")\n",
        "\n",
        "    if (epoch + 1) % val_interval == 0:\n",
        "        model.eval()\n",
        "        with torch.no_grad():\n",
        "            y_pred = torch.tensor([], dtype=torch.float32, device=device)\n",
        "            y = torch.tensor([], dtype=torch.long, device=device)\n",
        "            for val_data in val_loader:\n",
        "                val_images, val_labels = (\n",
        "                    val_data[0].to(device),\n",
        "                    val_data[1].to(device),\n",
        "                )\n",
        "                y_pred = torch.cat([y_pred, model(val_images)], dim=0)\n",
        "                y = torch.cat([y, val_labels], dim=0)\n",
        "            y_onehot = [y_trans(i) for i in decollate_batch(y, detach=False)]\n",
        "            y_pred_act = [y_pred_trans(i) for i in decollate_batch(y_pred)]\n",
        "            auc_metric(y_pred_act, y_onehot)\n",
        "            result = auc_metric.aggregate()\n",
        "            auc_metric.reset()\n",
        "            del y_pred_act, y_onehot\n",
        "            metric_values.append(result)\n",
        "            acc_value = torch.eq(y_pred.argmax(dim=1), y)\n",
        "            acc_metric = acc_value.sum().item() / len(acc_value)\n",
        "            if result > best_metric:\n",
        "                best_metric = result\n",
        "                best_metric_epoch = epoch + 1\n",
        "                torch.save(model.state_dict(), os.path.join(root_dir, \"best_metric_model.pth\"))\n",
        "                print(\"saved new best metric model\")\n",
        "            print(\n",
        "                f\"current epoch: {epoch + 1} current AUC: {result:.4f}\"\n",
        "                f\" current accuracy: {acc_metric:.4f}\"\n",
        "                f\" best AUC: {best_metric:.4f}\"\n",
        "                f\" at epoch: {best_metric_epoch}\"\n",
        "            )\n",
        "\n",
        "print(f\"train completed, best_metric: {best_metric:.4f} \" f\"at epoch: {best_metric_epoch}\")"
      ]
    },
    {
      "cell_type": "markdown",
      "metadata": {
        "id": "8lzKeDUpwdEW"
      },
      "source": [
        "## Plot the loss and metric"
      ]
    },
    {
      "cell_type": "code",
      "execution_count": 14,
      "metadata": {
        "colab": {
          "base_uri": "https://localhost:8080/",
          "height": 564
        },
        "id": "cwb1GkDVwdEW",
        "outputId": "af9702a3-fd32-4616-d6bf-288a395bd438"
      },
      "outputs": [
        {
          "output_type": "display_data",
          "data": {
            "text/plain": [
              "<Figure size 1200x600 with 2 Axes>"
            ],
            "image/png": "[encoded data removed]"
          },
          "metadata": {}
        }
      ],
      "source": [
        "plt.figure(\"train\", (12, 6))\n",
        "plt.subplot(1, 2, 1)\n",
        "plt.title(\"Epoch Average Loss\")\n",
        "x = [i + 1 for i in range(len(epoch_loss_values))]\n",
        "y = epoch_loss_values\n",
        "plt.xlabel(\"epoch\")\n",
        "plt.plot(x, y)\n",
        "plt.subplot(1, 2, 2)\n",
        "plt.title(\"Val AUC\")\n",
        "x = [val_interval * (i + 1) for i in range(len(metric_values))]\n",
        "y = metric_values\n",
        "plt.xlabel(\"epoch\")\n",
        "plt.plot(x, y)\n",
        "plt.show()"
      ]
    },
    {
      "cell_type": "markdown",
      "metadata": {
        "id": "0cGZTF8CwdEX"
      },
      "source": [
        "## Evaluate the model on test dataset\n",
        "\n",
        "After training and validation, we already got the best model on validation test.  \n",
        "We need to evaluate the model on test dataset to check whether it's robust and not over-fitting.  \n",
        "We'll use these predictions to generate a classification report."
      ]
    },
    {
      "cell_type": "code",
      "execution_count": 15,
      "metadata": {
        "id": "9Hm3n-JhwdEX"
      },
      "outputs": [],
      "source": [
        "model.load_state_dict(torch.load(os.path.join(root_dir, \"best_metric_model.pth\")))\n",
        "model.eval()\n",
        "y_true = []\n",
        "y_pred = []\n",
        "with torch.no_grad():\n",
        "    for test_data in test_loader:\n",
        "        test_images, test_labels = (\n",
        "            test_data[0].to(device),\n",
        "            test_data[1].to(device),\n",
        "        )\n",
        "        pred = model(test_images).argmax(dim=1)\n",
        "        for i in range(len(pred)):\n",
        "            y_true.append(test_labels[i].item())\n",
        "            y_pred.append(pred[i].item())"
      ]
    },
    {
      "cell_type": "code",
      "execution_count": 16,
      "metadata": {
        "tags": [],
        "colab": {
          "base_uri": "https://localhost:8080/"
        },
        "id": "XH0tgA06wdEX",
        "outputId": "ff2f59f7-8be9-4d99-9a59-0a84d4ec84bc"
      },
      "outputs": [
        {
          "output_type": "stream",
          "name": "stdout",
          "text": [
            "              precision    recall  f1-score   support\n",
            "\n",
            "   AbdomenCT     0.9920    0.9910    0.9915       995\n",
            "   BreastMRI     0.9966    0.9932    0.9949       880\n",
            "         CXR     0.9980    0.9959    0.9969       982\n",
            "     ChestCT     0.9941    1.0000    0.9971      1014\n",
            "        Hand     0.9981    0.9962    0.9971      1048\n",
            "      HeadCT     0.9959    0.9980    0.9969       976\n",
            "\n",
            "    accuracy                         0.9958      5895\n",
            "   macro avg     0.9958    0.9957    0.9957      5895\n",
            "weighted avg     0.9958    0.9958    0.9958      5895\n",
            "\n"
          ]
        }
      ],
      "source": [
        "print(classification_report(y_true, y_pred, target_names=class_names, digits=4))"
      ]
    },
    {
      "cell_type": "markdown",
      "metadata": {
        "id": "S2s8X1qywdEX"
      },
      "source": [
        "## Cleanup data directory\n",
        "\n",
        "Remove directory if a temporary was used."
      ]
    },
    {
      "cell_type": "code",
      "execution_count": 17,
      "metadata": {
        "id": "bTb9TNT2wdEX"
      },
      "outputs": [],
      "source": [
        "if directory is None:\n",
        "    shutil.rmtree(root_dir)"
      ]
    },
    {
      "cell_type": "code",
      "source": [],
      "metadata": {
        "id": "OZhKjxrYehYP"
      },
      "execution_count": null,
      "outputs": []
    }
  ],
  "metadata": {
    "kernelspec": {
      "display_name": "Python 3 (ipykernel)",
      "language": "python",
      "name": "python3"
    },
    "language_info": {
      "codemirror_mode": {
        "name": "ipython",
        "version": 3
      },
      "file_extension": ".py",
      "mimetype": "text/x-python",
      "name": "python",
      "nbconvert_exporter": "python",
      "pygments_lexer": "ipython3",
      "version": "3.8.13"
    },
    "colab": {
      "provenance": [],
      "include_colab_link": true
    }
  },
  "nbformat": 4,
  "nbformat_minor": 0
}